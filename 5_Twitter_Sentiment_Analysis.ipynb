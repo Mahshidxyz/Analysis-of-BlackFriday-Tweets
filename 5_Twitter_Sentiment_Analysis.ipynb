{
 "cells": [
  {
   "attachments": {},
   "cell_type": "markdown",
   "metadata": {},
   "source": [
    "# Tweet Sentiment Analysis\n",
    "\n",
    "*Simple sentiment analysis using text blob*\n",
    "\n",
    "Results for the whole Tweet dataset (English): 51% positive sentiment, 36% neutral sentiment, 13% negative sentiment.\n",
    "\n",
    "- Results for the tweets with #apple or @apple: 52% positive sentiment, 41% neutral sentiment, 7% negative sentiment.\n",
    "\n",
    "- Results for the tweets with #samsung or @samsung: 50% positive sentiment, 37% neutral sentiment, 13% negative sentiment.\n",
    "\n",
    "It seems that text blob False Negative rate is not trivial for the tweets about shopping, deals and discounts. However, we can still compare the sentiment about different companies with each other, assuming that the False Negative rate is the same for large samples. Relatively speaking, the sentiment of tweets about Apple around Black Friday & Cyber Monday was more positive than the sentiment of tweets about Samsung.\n",
    "\n",
    "Sentiment Analysis can help businesses in early detection of negative tweets/comments and addressing customer concerns."
   ]
  },
  {
   "cell_type": "code",
   "execution_count": 1,
   "metadata": {},
   "outputs": [],
   "source": [
    "import pandas as pd\n",
    "import numpy as np"
   ]
  },
  {
   "cell_type": "code",
   "execution_count": 2,
   "metadata": {},
   "outputs": [],
   "source": [
    "tweets = pd.read_csv('df_tweets.csv', usecols=['created_at', 'language', 'full_text', 'hashtags', 'user_mentions'],\\\n",
    "                     parse_dates=['created_at'], infer_datetime_format=True, low_memory=False)"
   ]
  },
  {
   "cell_type": "code",
   "execution_count": 3,
   "metadata": {},
   "outputs": [],
   "source": [
    "# drop the tweets in languages other than English \n",
    "tweets = tweets[tweets['language'] == 'en']"
   ]
  },
  {
   "cell_type": "code",
   "execution_count": 4,
   "metadata": {},
   "outputs": [
    {
     "name": "stdout",
     "output_type": "stream",
     "text": [
      "1204244 tweets out of the ~1.7 million collected tweets were in english\n"
     ]
    }
   ],
   "source": [
    "print (len(tweets), 'tweets out of the ~1.7 million collected tweets were in english')"
   ]
  },
  {
   "cell_type": "code",
   "execution_count": 5,
   "metadata": {},
   "outputs": [
    {
     "data": {
      "text/html": [
       "<div>\n",
       "<style scoped>\n",
       "    .dataframe tbody tr th:only-of-type {\n",
       "        vertical-align: middle;\n",
       "    }\n",
       "\n",
       "    .dataframe tbody tr th {\n",
       "        vertical-align: top;\n",
       "    }\n",
       "\n",
       "    .dataframe thead th {\n",
       "        text-align: right;\n",
       "    }\n",
       "</style>\n",
       "<table border=\"1\" class=\"dataframe\">\n",
       "  <thead>\n",
       "    <tr style=\"text-align: right;\">\n",
       "      <th></th>\n",
       "      <th>created_at</th>\n",
       "      <th>language</th>\n",
       "      <th>user_mentions</th>\n",
       "      <th>hashtags</th>\n",
       "      <th>full_text</th>\n",
       "    </tr>\n",
       "  </thead>\n",
       "  <tbody>\n",
       "    <tr>\n",
       "      <th>2</th>\n",
       "      <td>2017-11-20 11:15:18</td>\n",
       "      <td>en</td>\n",
       "      <td>[]</td>\n",
       "      <td>['AMAZON', 'DEALS', 'Christmas', 'holiday', 't...</td>\n",
       "      <td>['HURRY #AMAZON LIGHTNING #DEALS LIVE &amp;gt; htt...</td>\n",
       "    </tr>\n",
       "    <tr>\n",
       "      <th>3</th>\n",
       "      <td>2017-11-20 11:15:18</td>\n",
       "      <td>en</td>\n",
       "      <td>['blackfriday']</td>\n",
       "      <td>['BlackFriday', 'CORSETS', 'dress', 'fashion']</td>\n",
       "      <td>['Black Friday Sale- 55% Off\\nNayla Brocade Ov...</td>\n",
       "    </tr>\n",
       "    <tr>\n",
       "      <th>4</th>\n",
       "      <td>2017-11-20 11:15:18</td>\n",
       "      <td>en</td>\n",
       "      <td>[]</td>\n",
       "      <td>['ghd', 'Christmas', 'hair', 'BlackFriday', 'B...</td>\n",
       "      <td>['Black Friday Deals\\nSave £20 on the ghd IV S...</td>\n",
       "    </tr>\n",
       "    <tr>\n",
       "      <th>5</th>\n",
       "      <td>2017-11-20 11:15:19</td>\n",
       "      <td>en</td>\n",
       "      <td>[]</td>\n",
       "      <td>['sale', 'save', 'blackfriday', 'bathmat', 'ut...</td>\n",
       "      <td>['23% discount #sale #save #blackfriday #bathm...</td>\n",
       "    </tr>\n",
       "    <tr>\n",
       "      <th>6</th>\n",
       "      <td>2017-11-20 11:15:20</td>\n",
       "      <td>en</td>\n",
       "      <td>[]</td>\n",
       "      <td>['blackfriday', 'printer', 'deal', 'sale', 'be...</td>\n",
       "      <td>['Are you Looking for Officejet Printer Visit ...</td>\n",
       "    </tr>\n",
       "  </tbody>\n",
       "</table>\n",
       "</div>"
      ],
      "text/plain": [
       "           created_at language    user_mentions  \\\n",
       "2 2017-11-20 11:15:18       en               []   \n",
       "3 2017-11-20 11:15:18       en  ['blackfriday']   \n",
       "4 2017-11-20 11:15:18       en               []   \n",
       "5 2017-11-20 11:15:19       en               []   \n",
       "6 2017-11-20 11:15:20       en               []   \n",
       "\n",
       "                                            hashtags  \\\n",
       "2  ['AMAZON', 'DEALS', 'Christmas', 'holiday', 't...   \n",
       "3     ['BlackFriday', 'CORSETS', 'dress', 'fashion']   \n",
       "4  ['ghd', 'Christmas', 'hair', 'BlackFriday', 'B...   \n",
       "5  ['sale', 'save', 'blackfriday', 'bathmat', 'ut...   \n",
       "6  ['blackfriday', 'printer', 'deal', 'sale', 'be...   \n",
       "\n",
       "                                           full_text  \n",
       "2  ['HURRY #AMAZON LIGHTNING #DEALS LIVE &gt; htt...  \n",
       "3  ['Black Friday Sale- 55% Off\\nNayla Brocade Ov...  \n",
       "4  ['Black Friday Deals\\nSave £20 on the ghd IV S...  \n",
       "5  ['23% discount #sale #save #blackfriday #bathm...  \n",
       "6  ['Are you Looking for Officejet Printer Visit ...  "
      ]
     },
     "execution_count": 5,
     "metadata": {},
     "output_type": "execute_result"
    }
   ],
   "source": [
    "tweets.head()"
   ]
  },
  {
   "cell_type": "code",
   "execution_count": 6,
   "metadata": {},
   "outputs": [],
   "source": [
    "# Sentiment Analysis \n",
    "from textblob import TextBlob\n",
    "import re\n",
    "\n",
    "def clean_tweet(tweet):\n",
    "    '''\n",
    "    Utility function to clean the text in a tweet by removing \n",
    "    links and special characters using regex.\n",
    "    '''\n",
    "    return ' '.join(re.sub(\"(@[A-Za-z0-9]+)|([^0-9A-Za-z \\t])|(\\w+:\\/\\/\\S+)\", \" \", tweet).split())\n",
    "\n",
    "def analize_sentiment(tweet):\n",
    "    '''\n",
    "    Utility function to classify the polarity of a tweet\n",
    "    using textblob.\n",
    "    '''\n",
    "    analysis = TextBlob(clean_tweet(tweet))\n",
    "    if analysis.sentiment.polarity > 0:\n",
    "        return 1\n",
    "    elif analysis.sentiment.polarity == 0:\n",
    "        return 0\n",
    "    else:\n",
    "        return -1"
   ]
  },
  {
   "cell_type": "code",
   "execution_count": 7,
   "metadata": {},
   "outputs": [],
   "source": [
    "# Adding a column for sentiment    \n",
    "tweets['SA'] = tweets['full_text'].apply(lambda x: analize_sentiment(x))"
   ]
  },
  {
   "cell_type": "code",
   "execution_count": 8,
   "metadata": {},
   "outputs": [
    {
     "data": {
      "text/html": [
       "<div>\n",
       "<style scoped>\n",
       "    .dataframe tbody tr th:only-of-type {\n",
       "        vertical-align: middle;\n",
       "    }\n",
       "\n",
       "    .dataframe tbody tr th {\n",
       "        vertical-align: top;\n",
       "    }\n",
       "\n",
       "    .dataframe thead th {\n",
       "        text-align: right;\n",
       "    }\n",
       "</style>\n",
       "<table border=\"1\" class=\"dataframe\">\n",
       "  <thead>\n",
       "    <tr style=\"text-align: right;\">\n",
       "      <th></th>\n",
       "      <th>Sentiment</th>\n",
       "      <th>Count</th>\n",
       "      <th>% of total</th>\n",
       "    </tr>\n",
       "    <tr>\n",
       "      <th>SA</th>\n",
       "      <th></th>\n",
       "      <th></th>\n",
       "      <th></th>\n",
       "    </tr>\n",
       "  </thead>\n",
       "  <tbody>\n",
       "    <tr>\n",
       "      <th>-1</th>\n",
       "      <td>Negative</td>\n",
       "      <td>157020</td>\n",
       "      <td>0.130389</td>\n",
       "    </tr>\n",
       "    <tr>\n",
       "      <th>0</th>\n",
       "      <td>Neutral</td>\n",
       "      <td>434201</td>\n",
       "      <td>0.360559</td>\n",
       "    </tr>\n",
       "    <tr>\n",
       "      <th>1</th>\n",
       "      <td>Positive</td>\n",
       "      <td>613023</td>\n",
       "      <td>0.509052</td>\n",
       "    </tr>\n",
       "  </tbody>\n",
       "</table>\n",
       "</div>"
      ],
      "text/plain": [
       "   Sentiment   Count  % of total\n",
       "SA                              \n",
       "-1  Negative  157020    0.130389\n",
       " 0   Neutral  434201    0.360559\n",
       " 1  Positive  613023    0.509052"
      ]
     },
     "execution_count": 8,
     "metadata": {},
     "output_type": "execute_result"
    }
   ],
   "source": [
    "# Percentages\n",
    "sentiments = tweets.groupby('SA').agg({'SA':'count'}).rename(columns=({'SA': 'Count'}))\n",
    "sentiments['% of total'] = sentiments['Count']/sentiments['Count'].sum()\n",
    "sentiments ['Sentiment'] = ['Negative', 'Neutral', 'Positive']\n",
    "sentiments = sentiments.reindex(columns = ['Sentiment', 'Count','% of total'])\n",
    "sentiments"
   ]
  },
  {
   "cell_type": "markdown",
   "metadata": {},
   "source": [
    "## Tweet Sentiments: Apple vs Samsung"
   ]
  },
  {
   "cell_type": "code",
   "execution_count": 9,
   "metadata": {},
   "outputs": [],
   "source": [
    "# Changing the type of the hashtags and user_mentions columns from string to list\n",
    "tweets['hashtags'] = tweets['hashtags'].apply(lambda x: x.strip('[]').lower().replace(\"'\",'').split(', '))\n",
    "tweets['user_mentions'] = tweets['user_mentions'].apply(lambda x: x.strip('[]').lower().replace(\"'\",'').split(', '))"
   ]
  },
  {
   "cell_type": "code",
   "execution_count": 10,
   "metadata": {},
   "outputs": [],
   "source": [
    "# tweets with hashtags or user mentions of apple or samsung\n",
    "tweets ['apple'] = (tweets['hashtags'] + tweets['user_mentions']).apply(lambda x: True if 'apple' in x else False)\n",
    "tweets ['samsung'] = (tweets['hashtags'] + tweets['user_mentions']).apply(lambda x: True if 'samsung' in x else False)"
   ]
  },
  {
   "cell_type": "code",
   "execution_count": 11,
   "metadata": {},
   "outputs": [
    {
     "data": {
      "text/html": [
       "<div>\n",
       "<style scoped>\n",
       "    .dataframe tbody tr th:only-of-type {\n",
       "        vertical-align: middle;\n",
       "    }\n",
       "\n",
       "    .dataframe tbody tr th {\n",
       "        vertical-align: top;\n",
       "    }\n",
       "\n",
       "    .dataframe thead th {\n",
       "        text-align: right;\n",
       "    }\n",
       "</style>\n",
       "<table border=\"1\" class=\"dataframe\">\n",
       "  <thead>\n",
       "    <tr style=\"text-align: right;\">\n",
       "      <th></th>\n",
       "      <th>created_at</th>\n",
       "      <th>language</th>\n",
       "      <th>user_mentions</th>\n",
       "      <th>hashtags</th>\n",
       "      <th>full_text</th>\n",
       "      <th>SA</th>\n",
       "      <th>apple</th>\n",
       "      <th>samsung</th>\n",
       "    </tr>\n",
       "  </thead>\n",
       "  <tbody>\n",
       "    <tr>\n",
       "      <th>894</th>\n",
       "      <td>2017-11-20 11:37:01</td>\n",
       "      <td>en</td>\n",
       "      <td>[apple]</td>\n",
       "      <td>[twitterpoll, blackfriday, cybermonday, iphone...</td>\n",
       "      <td>['Please vote! #TwitterPoll #BlackFriday #Cybe...</td>\n",
       "      <td>0</td>\n",
       "      <td>True</td>\n",
       "      <td>False</td>\n",
       "    </tr>\n",
       "    <tr>\n",
       "      <th>1085</th>\n",
       "      <td>2017-11-20 11:42:00</td>\n",
       "      <td>en</td>\n",
       "      <td>[]</td>\n",
       "      <td>[macbook, blackfriday, apple]</td>\n",
       "      <td>['#MacBook MEGA MADNESS : #BlackFriday korting...</td>\n",
       "      <td>0</td>\n",
       "      <td>True</td>\n",
       "      <td>False</td>\n",
       "    </tr>\n",
       "    <tr>\n",
       "      <th>1086</th>\n",
       "      <td>2017-11-20 11:42:01</td>\n",
       "      <td>en</td>\n",
       "      <td>[]</td>\n",
       "      <td>[macbook, blackfriday, apple]</td>\n",
       "      <td>['#MacBook MEGA MADNESS : #BlackFriday korting...</td>\n",
       "      <td>0</td>\n",
       "      <td>True</td>\n",
       "      <td>False</td>\n",
       "    </tr>\n",
       "    <tr>\n",
       "      <th>1119</th>\n",
       "      <td>2017-11-20 11:43:00</td>\n",
       "      <td>en</td>\n",
       "      <td>[]</td>\n",
       "      <td>[macbook, apple, blackfriday]</td>\n",
       "      <td>['#MacBook MEGA Madness : tous les MacBooks #A...</td>\n",
       "      <td>0</td>\n",
       "      <td>True</td>\n",
       "      <td>False</td>\n",
       "    </tr>\n",
       "    <tr>\n",
       "      <th>1120</th>\n",
       "      <td>2017-11-20 11:43:00</td>\n",
       "      <td>en</td>\n",
       "      <td>[]</td>\n",
       "      <td>[macbook, apple, blackfriday]</td>\n",
       "      <td>['#MacBook MEGA Madness : tous les MacBooks #A...</td>\n",
       "      <td>0</td>\n",
       "      <td>True</td>\n",
       "      <td>False</td>\n",
       "    </tr>\n",
       "  </tbody>\n",
       "</table>\n",
       "</div>"
      ],
      "text/plain": [
       "              created_at language user_mentions  \\\n",
       "894  2017-11-20 11:37:01       en       [apple]   \n",
       "1085 2017-11-20 11:42:00       en            []   \n",
       "1086 2017-11-20 11:42:01       en            []   \n",
       "1119 2017-11-20 11:43:00       en            []   \n",
       "1120 2017-11-20 11:43:00       en            []   \n",
       "\n",
       "                                               hashtags  \\\n",
       "894   [twitterpoll, blackfriday, cybermonday, iphone...   \n",
       "1085                      [macbook, blackfriday, apple]   \n",
       "1086                      [macbook, blackfriday, apple]   \n",
       "1119                      [macbook, apple, blackfriday]   \n",
       "1120                      [macbook, apple, blackfriday]   \n",
       "\n",
       "                                              full_text  SA  apple  samsung  \n",
       "894   ['Please vote! #TwitterPoll #BlackFriday #Cybe...   0   True    False  \n",
       "1085  ['#MacBook MEGA MADNESS : #BlackFriday korting...   0   True    False  \n",
       "1086  ['#MacBook MEGA MADNESS : #BlackFriday korting...   0   True    False  \n",
       "1119  ['#MacBook MEGA Madness : tous les MacBooks #A...   0   True    False  \n",
       "1120  ['#MacBook MEGA Madness : tous les MacBooks #A...   0   True    False  "
      ]
     },
     "execution_count": 11,
     "metadata": {},
     "output_type": "execute_result"
    }
   ],
   "source": [
    "apple = tweets[tweets['apple'] == True]\n",
    "apple.head()"
   ]
  },
  {
   "cell_type": "code",
   "execution_count": 12,
   "metadata": {},
   "outputs": [
    {
     "data": {
      "text/html": [
       "<div>\n",
       "<style scoped>\n",
       "    .dataframe tbody tr th:only-of-type {\n",
       "        vertical-align: middle;\n",
       "    }\n",
       "\n",
       "    .dataframe tbody tr th {\n",
       "        vertical-align: top;\n",
       "    }\n",
       "\n",
       "    .dataframe thead th {\n",
       "        text-align: right;\n",
       "    }\n",
       "</style>\n",
       "<table border=\"1\" class=\"dataframe\">\n",
       "  <thead>\n",
       "    <tr style=\"text-align: right;\">\n",
       "      <th></th>\n",
       "      <th>created_at</th>\n",
       "      <th>language</th>\n",
       "      <th>user_mentions</th>\n",
       "      <th>hashtags</th>\n",
       "      <th>full_text</th>\n",
       "      <th>SA</th>\n",
       "      <th>apple</th>\n",
       "      <th>samsung</th>\n",
       "    </tr>\n",
       "  </thead>\n",
       "  <tbody>\n",
       "    <tr>\n",
       "      <th>1210</th>\n",
       "      <td>2017-11-20 11:45:48</td>\n",
       "      <td>en</td>\n",
       "      <td>[]</td>\n",
       "      <td>[blackfridayfeeling, blackfriday, blackfriday2...</td>\n",
       "      <td>[\"Hurry Up! Black Friday at Kohl's is Live.......</td>\n",
       "      <td>-1</td>\n",
       "      <td>False</td>\n",
       "      <td>True</td>\n",
       "    </tr>\n",
       "    <tr>\n",
       "      <th>2821</th>\n",
       "      <td>2017-11-20 12:22:37</td>\n",
       "      <td>en</td>\n",
       "      <td>[]</td>\n",
       "      <td>[blackfriday, blackfriday2017, cybermonday, de...</td>\n",
       "      <td>[\"Microsoft's Special Deal on Xbox One S\\n#Bla...</td>\n",
       "      <td>1</td>\n",
       "      <td>False</td>\n",
       "      <td>True</td>\n",
       "    </tr>\n",
       "    <tr>\n",
       "      <th>4309</th>\n",
       "      <td>2017-11-20 12:58:51</td>\n",
       "      <td>en</td>\n",
       "      <td>[samsung, curryspcworld]</td>\n",
       "      <td>[discrimination, badsalestechnique, blackfrida...</td>\n",
       "      <td>['@Samsung @curryspcworld DISGUSTED with the w...</td>\n",
       "      <td>-1</td>\n",
       "      <td>False</td>\n",
       "      <td>True</td>\n",
       "    </tr>\n",
       "    <tr>\n",
       "      <th>4401</th>\n",
       "      <td>2017-11-20 13:00:09</td>\n",
       "      <td>en</td>\n",
       "      <td>[samsung]</td>\n",
       "      <td>[sale, save, blackfriday, samsung, smarttv]</td>\n",
       "      <td>['35% discount #sale #save #blackfriday #samsu...</td>\n",
       "      <td>1</td>\n",
       "      <td>False</td>\n",
       "      <td>True</td>\n",
       "    </tr>\n",
       "    <tr>\n",
       "      <th>4411</th>\n",
       "      <td>2017-11-20 13:00:11</td>\n",
       "      <td>en</td>\n",
       "      <td>[samsung]</td>\n",
       "      <td>[sale, save, blackfriday, samsung, smarttv]</td>\n",
       "      <td>['35% discount #sale #save #blackfriday #samsu...</td>\n",
       "      <td>1</td>\n",
       "      <td>False</td>\n",
       "      <td>True</td>\n",
       "    </tr>\n",
       "  </tbody>\n",
       "</table>\n",
       "</div>"
      ],
      "text/plain": [
       "              created_at language             user_mentions  \\\n",
       "1210 2017-11-20 11:45:48       en                        []   \n",
       "2821 2017-11-20 12:22:37       en                        []   \n",
       "4309 2017-11-20 12:58:51       en  [samsung, curryspcworld]   \n",
       "4401 2017-11-20 13:00:09       en                 [samsung]   \n",
       "4411 2017-11-20 13:00:11       en                 [samsung]   \n",
       "\n",
       "                                               hashtags  \\\n",
       "1210  [blackfridayfeeling, blackfriday, blackfriday2...   \n",
       "2821  [blackfriday, blackfriday2017, cybermonday, de...   \n",
       "4309  [discrimination, badsalestechnique, blackfrida...   \n",
       "4401        [sale, save, blackfriday, samsung, smarttv]   \n",
       "4411        [sale, save, blackfriday, samsung, smarttv]   \n",
       "\n",
       "                                              full_text  SA  apple  samsung  \n",
       "1210  [\"Hurry Up! Black Friday at Kohl's is Live.......  -1  False     True  \n",
       "2821  [\"Microsoft's Special Deal on Xbox One S\\n#Bla...   1  False     True  \n",
       "4309  ['@Samsung @curryspcworld DISGUSTED with the w...  -1  False     True  \n",
       "4401  ['35% discount #sale #save #blackfriday #samsu...   1  False     True  \n",
       "4411  ['35% discount #sale #save #blackfriday #samsu...   1  False     True  "
      ]
     },
     "execution_count": 12,
     "metadata": {},
     "output_type": "execute_result"
    }
   ],
   "source": [
    "samsung = tweets[tweets['samsung'] == True]\n",
    "samsung.head()"
   ]
  },
  {
   "cell_type": "code",
   "execution_count": 13,
   "metadata": {},
   "outputs": [
    {
     "data": {
      "text/html": [
       "<div>\n",
       "<style scoped>\n",
       "    .dataframe tbody tr th:only-of-type {\n",
       "        vertical-align: middle;\n",
       "    }\n",
       "\n",
       "    .dataframe tbody tr th {\n",
       "        vertical-align: top;\n",
       "    }\n",
       "\n",
       "    .dataframe thead th {\n",
       "        text-align: right;\n",
       "    }\n",
       "</style>\n",
       "<table border=\"1\" class=\"dataframe\">\n",
       "  <thead>\n",
       "    <tr style=\"text-align: right;\">\n",
       "      <th></th>\n",
       "      <th>Sentiment</th>\n",
       "      <th>Count</th>\n",
       "      <th>% of total</th>\n",
       "    </tr>\n",
       "    <tr>\n",
       "      <th>SA</th>\n",
       "      <th></th>\n",
       "      <th></th>\n",
       "      <th></th>\n",
       "    </tr>\n",
       "  </thead>\n",
       "  <tbody>\n",
       "    <tr>\n",
       "      <th>-1</th>\n",
       "      <td>Negative</td>\n",
       "      <td>239</td>\n",
       "      <td>0.073516</td>\n",
       "    </tr>\n",
       "    <tr>\n",
       "      <th>0</th>\n",
       "      <td>Neutral</td>\n",
       "      <td>1328</td>\n",
       "      <td>0.408490</td>\n",
       "    </tr>\n",
       "    <tr>\n",
       "      <th>1</th>\n",
       "      <td>Positive</td>\n",
       "      <td>1684</td>\n",
       "      <td>0.517994</td>\n",
       "    </tr>\n",
       "  </tbody>\n",
       "</table>\n",
       "</div>"
      ],
      "text/plain": [
       "   Sentiment  Count  % of total\n",
       "SA                             \n",
       "-1  Negative    239    0.073516\n",
       " 0   Neutral   1328    0.408490\n",
       " 1  Positive   1684    0.517994"
      ]
     },
     "execution_count": 13,
     "metadata": {},
     "output_type": "execute_result"
    }
   ],
   "source": [
    "# Sentiment around Apple\n",
    "apple_SA = apple.groupby('SA').agg({'SA':'count'}).rename(columns=({'SA': 'Count'}))\n",
    "apple_SA ['% of total'] = apple_SA['Count']/apple_SA['Count'].sum()\n",
    "apple_SA ['Sentiment'] = ['Negative', 'Neutral', 'Positive']\n",
    "apple_SA = apple_SA.reindex(columns = ['Sentiment', 'Count','% of total'])\n",
    "apple_SA"
   ]
  },
  {
   "cell_type": "code",
   "execution_count": 14,
   "metadata": {},
   "outputs": [
    {
     "data": {
      "text/html": [
       "<div>\n",
       "<style scoped>\n",
       "    .dataframe tbody tr th:only-of-type {\n",
       "        vertical-align: middle;\n",
       "    }\n",
       "\n",
       "    .dataframe tbody tr th {\n",
       "        vertical-align: top;\n",
       "    }\n",
       "\n",
       "    .dataframe thead th {\n",
       "        text-align: right;\n",
       "    }\n",
       "</style>\n",
       "<table border=\"1\" class=\"dataframe\">\n",
       "  <thead>\n",
       "    <tr style=\"text-align: right;\">\n",
       "      <th></th>\n",
       "      <th>Sentiment</th>\n",
       "      <th>Count</th>\n",
       "      <th>% of total</th>\n",
       "    </tr>\n",
       "    <tr>\n",
       "      <th>SA</th>\n",
       "      <th></th>\n",
       "      <th></th>\n",
       "      <th></th>\n",
       "    </tr>\n",
       "  </thead>\n",
       "  <tbody>\n",
       "    <tr>\n",
       "      <th>-1</th>\n",
       "      <td>Negative</td>\n",
       "      <td>252</td>\n",
       "      <td>0.132701</td>\n",
       "    </tr>\n",
       "    <tr>\n",
       "      <th>0</th>\n",
       "      <td>Neutral</td>\n",
       "      <td>704</td>\n",
       "      <td>0.370721</td>\n",
       "    </tr>\n",
       "    <tr>\n",
       "      <th>1</th>\n",
       "      <td>Positive</td>\n",
       "      <td>943</td>\n",
       "      <td>0.496577</td>\n",
       "    </tr>\n",
       "  </tbody>\n",
       "</table>\n",
       "</div>"
      ],
      "text/plain": [
       "   Sentiment  Count  % of total\n",
       "SA                             \n",
       "-1  Negative    252    0.132701\n",
       " 0   Neutral    704    0.370721\n",
       " 1  Positive    943    0.496577"
      ]
     },
     "execution_count": 14,
     "metadata": {},
     "output_type": "execute_result"
    }
   ],
   "source": [
    "# Sentiment around Samsung\n",
    "samsung_SA = samsung.groupby('SA').agg({'SA':'count'}).rename(columns=({'SA': 'Count'}))\n",
    "samsung_SA ['% of total'] = samsung_SA['Count']/samsung_SA['Count'].sum()\n",
    "samsung_SA ['Sentiment'] = ['Negative', 'Neutral', 'Positive']\n",
    "samsung_SA = samsung_SA.reindex(columns = ['Sentiment', 'Count','% of total'])\n",
    "samsung_SA"
   ]
  },
  {
   "cell_type": "code",
   "execution_count": 15,
   "metadata": {},
   "outputs": [
    {
     "data": {
      "text/plain": [
       "'[\\'@Samsung @curryspcworld DISGUSTED with the way you have treated a disabled customer this morning! Reviews state u send out smart remote no issues but now refuse! Not easy for a disabled customer to return a 58\" tv! #discrimination #badsalestechnique #blackfriday #4kUltra #Samsung\\']'"
      ]
     },
     "execution_count": 15,
     "metadata": {},
     "output_type": "execute_result"
    }
   ],
   "source": [
    "# Example of a tweet with nagative sentiment about samsung (True Negative)\n",
    "samsung['full_text'][4309]"
   ]
  },
  {
   "cell_type": "code",
   "execution_count": 16,
   "metadata": {},
   "outputs": [
    {
     "data": {
      "text/plain": [
       "'[\"Hurry Up! Black Friday at Kohl\\'s is Live.....\\\\n#blackfridayfeeling #BlackFriday #BlackFriday2017 #Kohls #BlackFriday #CyberMonday #KohlsSweeps #deals #giveaway #sale #Samsung #Christmas #Thanksgiving #Retail https://t.co/lXdXouydhD https://t.co/LYyLRMlBPj\"]'"
      ]
     },
     "execution_count": 16,
     "metadata": {},
     "output_type": "execute_result"
    }
   ],
   "source": [
    "# Example of a tweet with detected nagative sentiment about samsung which is not actually negative (False Negative)\n",
    "samsung['full_text'][1210]"
   ]
  },
  {
   "cell_type": "code",
   "execution_count": null,
   "metadata": {},
   "outputs": [],
   "source": []
  }
 ],
 "metadata": {
  "kernelspec": {
   "display_name": "Python 3",
   "language": "python",
   "name": "python3"
  },
  "language_info": {
   "codemirror_mode": {
    "name": "ipython",
    "version": 3
   },
   "file_extension": ".py",
   "mimetype": "text/x-python",
   "name": "python",
   "nbconvert_exporter": "python",
   "pygments_lexer": "ipython3",
   "version": "3.6.4"
  }
 },
 "nbformat": 4,
 "nbformat_minor": 2
}
